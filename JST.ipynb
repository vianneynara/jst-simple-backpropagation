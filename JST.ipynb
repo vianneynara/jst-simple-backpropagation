{
  "nbformat": 4,
  "nbformat_minor": 0,
  "metadata": {
    "colab": {
      "provenance": []
    },
    "kernelspec": {
      "name": "python3",
      "display_name": "Python 3"
    },
    "language_info": {
      "name": "python"
    }
  },
  "cells": [
    {
      "cell_type": "markdown",
      "source": [
        "Import Library"
      ],
      "metadata": {
        "id": "dZQ6JSG7tMC8"
      }
    },
    {
      "cell_type": "code",
      "source": [
        "import numpy as np\n",
        "import matplotlib.pyplot as plt\n",
        "from sklearn import datasets\n",
        "from sklearn.model_selection import train_test_split, KFold\n",
        "from sklearn.preprocessing import minmax_scale, StandardScaler, OneHotEncoder\n",
        "from sklearn.metrics import accuracy_score\n",
        "from typing import Tuple, List\n",
        "from numpy.typing import NDArray"
      ],
      "metadata": {
        "id": "ZNduBxOCdeRW"
      },
      "execution_count": 20,
      "outputs": []
    },
    {
      "cell_type": "code",
      "source": [
        "encoder = OneHotEncoder(sparse_output=False)\n",
        "\n",
        "def encode(y: NDArray) -> NDArray:\n",
        "    \"\"\"\n",
        "    Metode untuk melakukan encoding menggunakan encoder yang diinisialisasi di awal.\n",
        "    Metode ini mengubah representasi int menjadi encoded OneHotEncoder.\n",
        "    \"\"\"\n",
        "    return encoder.fit_transform(y.reshape(-1, 1))\n",
        "\n",
        "def decode(y: NDArray) -> NDArray:\n",
        "    \"\"\"\n",
        "    Metode untuk melakukan decoding menggunakan encoder yang diinisialisasi di awal.\n",
        "    Metode ini mengubah representasi encoded OneHotEncoder menjadi int.\n",
        "    \"\"\"\n",
        "    return encoder.inverse_transform(y).astype(int)"
      ],
      "metadata": {
        "id": "blMbks-Edjon"
      },
      "execution_count": 21,
      "outputs": []
    },
    {
      "cell_type": "code",
      "source": [
        "def sigmoid(x: NDArray) -> NDArray:\n",
        "    \"\"\"\n",
        "    Metode untuk menghitung fungsi sigmoid.\n",
        "    \"\"\"\n",
        "    return 1 / (1 + np.exp(-x))\n",
        "\n",
        "def sigmoid_deriv(x: NDArray) -> NDArray:\n",
        "    \"\"\"\n",
        "    Metode untuk menghitung turunan dari fungsi sigmoid.\n",
        "    \"\"\"\n",
        "    return x * (1 - x)"
      ],
      "metadata": {
        "id": "jtDnp0t-donu"
      },
      "execution_count": 22,
      "outputs": []
    },
    {
      "cell_type": "code",
      "source": [
        "def bp_fit(\n",
        "    X: NDArray,\n",
        "    Y: NDArray,\n",
        "    layer_conf: Tuple[int, int, int] = (4, 4, 3),\n",
        "    learn_rate: float = 0.1,\n",
        "    max_epoch: int = 1000,\n",
        "    max_error: float = 0.01,\n",
        "    print_per_epoch: int = 50\n",
        ") -> Tuple[\n",
        "    Tuple[NDArray, NDArray, NDArray, NDArray],\n",
        "    int,\n",
        "    float,\n",
        "    List[float]\n",
        "]:\n",
        "    \"\"\"\n",
        "    Melakukan fitting data dengan metode Backpropagation sesuai materi yang diberikan.\n",
        "    Terdiri dari proses:\n",
        "    1. Penentuan bobot dan bias awal.\n",
        "    2. Proses feed-forward.\n",
        "    3. Proses perhitungan error.\n",
        "    4. Proses back-propagation.\n",
        "    5. Proses update weight dan bias.\n",
        "    6. Pelanjutan proses iterasi.\n",
        "\n",
        "    Parameters\n",
        "    ----------\n",
        "    X : NDArray\n",
        "        Berisi data input fitur yang akan dilatih. Setiap kolom merepresentasikan satu fitur.\n",
        "    Y : NDArray\n",
        "        Berisi label target yang merepresentasikan satu kelas-kelas output.\n",
        "    layer_conf : Tuple[int, int, int], optional\n",
        "        Konfigurasi jumlah neuron pada setiap layer dalam format (input_size, hidden_size, output_size).\n",
        "        Default (4, 4, 3) untuk dataset Iris dengan 4 fitur, 4 neuron hidden layer, dan 3 kelas output.\n",
        "    learn_rate : float, optional\n",
        "        Parameter learning rate untuk update bobot dan bias. Defaultnya 0.1.\n",
        "    max_epoch : int, optional\n",
        "        Jumlah maksimum epoch (iterasi) untuk pelatihan. Default 1000.\n",
        "    max_error : float, optional\n",
        "        Batas error minimum (threshold) untuk early stopping.\n",
        "        Pelatihan akan berhenti jika MSE < max_error. Defaultnya 0.01.\n",
        "    print_per_epoch : int, optional\n",
        "        Helper interval epoch untuk mencetak progress pelatihan. Default 50.\n",
        "    \"\"\"\n",
        "    input_size, hidden_size, output_size = layer_conf\n",
        "    np.random.seed(1)\n",
        "    w1 = np.random.rand(input_size, hidden_size)\n",
        "    b1 = np.random.rand(1, hidden_size)\n",
        "    w2 = np.random.rand(hidden_size, output_size)\n",
        "    b2 = np.random.rand(1, output_size)\n",
        "\n",
        "    # List untuk menyimpan hasil MSE perhitungan dari setiap epoch\n",
        "    # MSE (Mean Squared Error)\n",
        "    mse_list = []\n",
        "\n",
        "    for epoch in range(1, max_epoch + 1):\n",
        "        # Input Forward / Feed Forward\n",
        "        z1 = np.dot(X, w1) + b1\n",
        "        a1 = sigmoid(z1)\n",
        "        z2 = np.dot(a1, w2) + b2\n",
        "        a2 = sigmoid(z2)\n",
        "\n",
        "        # Menghitung Error\n",
        "        error = Y - a2\n",
        "        mse = np.mean(np.square(error))\n",
        "        mse_list.append(mse)\n",
        "\n",
        "        # Backpropagation\n",
        "        delta2 = error * sigmoid_deriv(a2)\n",
        "        dw2 = np.dot(a1.T, delta2)\n",
        "        db2 = np.sum(delta2, axis=0, keepdims=True)\n",
        "\n",
        "        delta1 = np.dot(delta2, w2.T) * sigmoid_deriv(a1)\n",
        "        dw1 = np.dot(X.T, delta1)\n",
        "        db1 = np.sum(delta1, axis=0, keepdims=True)\n",
        "\n",
        "        # Update Bobot dan Bias\n",
        "        w2 += learn_rate * dw2\n",
        "        b2 += learn_rate * db2\n",
        "        w1 += learn_rate * dw1\n",
        "        b1 += learn_rate * db1\n",
        "\n",
        "        if epoch % print_per_epoch == 0 or mse < max_error:\n",
        "            print(f'Epoch {epoch}, MSE: {mse:.4f}')\n",
        "        if mse < max_error:\n",
        "            print(\"\")\n",
        "            break\n",
        "\n",
        "    return (w1, b1, w2, b2), epoch, mse, mse_list"
      ],
      "metadata": {
        "id": "XUHKz7R_ds5h"
      },
      "execution_count": 23,
      "outputs": []
    },
    {
      "cell_type": "code",
      "source": [
        "def bp_predict(\n",
        "    X: NDArray,\n",
        "    w: Tuple[NDArray, NDArray, NDArray, NDArray]\n",
        ") -> NDArray:\n",
        "    \"\"\"\n",
        "    Melakukan prediksi dengan weights dan bias pada Tuple w.\n",
        "    \"\"\"\n",
        "    w1, b1, w2, b2 = w\n",
        "    a1 = sigmoid(np.dot(X, w1) + b1)\n",
        "    a2 = sigmoid(np.dot(a1, w2) + b2)\n",
        "    return a2"
      ],
      "metadata": {
        "id": "QlLtzFtzdw_O"
      },
      "execution_count": 24,
      "outputs": []
    },
    {
      "cell_type": "markdown",
      "source": [
        "Load Data Iris dari package datasets"
      ],
      "metadata": {
        "id": "ATnBmUUqtRdD"
      }
    },
    {
      "cell_type": "code",
      "source": [
        "iris = datasets.load_iris()\n",
        "X_raw = iris.data\n",
        "y_raw = iris.target"
      ],
      "metadata": {
        "id": "0o7nK6mXdy5a"
      },
      "execution_count": 25,
      "outputs": []
    },
    {
      "cell_type": "markdown",
      "source": [
        "Preprocess Data"
      ],
      "metadata": {
        "id": "6PNY-dU8tTDv"
      }
    },
    {
      "cell_type": "code",
      "source": [
        "X = minmax_scale(X_raw)\n",
        "Y = encode(y_raw)"
      ],
      "metadata": {
        "id": "D0BpaFqOehE7"
      },
      "execution_count": 26,
      "outputs": []
    },
    {
      "cell_type": "code",
      "source": [
        "X_train, X_test, y_train, y_test = train_test_split(X, Y, test_size=0.3)"
      ],
      "metadata": {
        "id": "drz1N3wYd1It"
      },
      "execution_count": 27,
      "outputs": []
    },
    {
      "cell_type": "markdown",
      "source": [
        "Membentuk Model"
      ],
      "metadata": {
        "id": "7weGh_mPtVnC"
      }
    },
    {
      "cell_type": "code",
      "source": [
        "w, ep, mse, mse_list = bp_fit(X_train, y_train, layer_conf=(4, 4, 3), learn_rate=0.1)"
      ],
      "metadata": {
        "colab": {
          "base_uri": "https://localhost:8080/"
        },
        "id": "TLzQCp24d43K",
        "outputId": "a0da9809-e19a-4298-99aa-d42584313564"
      },
      "execution_count": 28,
      "outputs": [
        {
          "output_type": "stream",
          "name": "stdout",
          "text": [
            "Epoch 50, MSE: 0.0983\n",
            "Epoch 100, MSE: 0.0897\n",
            "Epoch 150, MSE: 0.0482\n",
            "Epoch 200, MSE: 0.0182\n",
            "Epoch 250, MSE: 0.0131\n",
            "Epoch 300, MSE: 0.0110\n",
            "Epoch 335, MSE: 0.0100\n",
            "\n"
          ]
        }
      ]
    },
    {
      "cell_type": "code",
      "source": [
        "plt.figure(figsize=(8, 5))\n",
        "plt.plot(mse_list)\n",
        "plt.title('Mean Squared Error Pada Setiap Iterasi')\n",
        "plt.xlabel('Epoch (Iterasi)')\n",
        "plt.ylabel('Mean Squared Error')\n",
        "plt.grid(True)\n",
        "plt.tight_layout()\n",
        "plt.show()"
      ],
      "metadata": {
        "colab": {
          "base_uri": "https://localhost:8080/",
          "height": 507
        },
        "id": "0z1_4zj7tKOl",
        "outputId": "a75f9c22-2c4c-4234-f034-51a5bd524128"
      },
      "execution_count": 29,
      "outputs": [
        {
          "output_type": "display_data",
          "data": {
            "text/plain": [
              "<Figure size 800x500 with 1 Axes>"
            ],
            "image/png": "[encoded data removed]"
          },
          "metadata": {}
        }
      ]
    },
    {
      "cell_type": "markdown",
      "source": [
        "Menguji Model"
      ],
      "metadata": {
        "id": "TsTnn2lvtZOp"
      }
    },
    {
      "cell_type": "code",
      "source": [
        "output = bp_predict(X_test, w)\n",
        "predicted = decode(output)"
      ],
      "metadata": {
        "id": "dS1xuC1VfHR4"
      },
      "execution_count": 30,
      "outputs": []
    },
    {
      "cell_type": "markdown",
      "source": [
        "Membandingkan Luaran Dengan Target"
      ],
      "metadata": {
        "id": "PtI_Zfvctb2g"
      }
    },
    {
      "cell_type": "code",
      "source": [
        "true = decode(y_test)\n",
        "\n",
        "print(f'Output: {predicted.flatten()}')\n",
        "print(f'True:   {true.flatten()}')\n",
        "print(f'Accuracy: {accuracy_score(true, predicted):.2f}')"
      ],
      "metadata": {
        "colab": {
          "base_uri": "https://localhost:8080/"
        },
        "id": "2VxLq_8offaO",
        "outputId": "76509a0a-8852-407e-d9cd-41c73ee58f67"
      },
      "execution_count": 31,
      "outputs": [
        {
          "output_type": "stream",
          "name": "stdout",
          "text": [
            "Output: [2 1 1 2 1 0 1 0 0 2 2 2 0 1 2 0 1 0 1 2 2 1 2 0 2 1 0 0 0 2 2 2 2 1 1 1 2\n",
            " 1 0 2 0 0 0 2 1]\n",
            "True:   [2 1 1 2 1 0 1 0 0 2 2 2 0 1 2 0 1 0 1 1 2 1 2 0 2 1 0 0 0 2 2 2 2 1 1 2 1\n",
            " 1 0 2 0 0 0 2 1]\n",
            "Accuracy: 0.93\n"
          ]
        }
      ]
    },
    {
      "cell_type": "markdown",
      "source": [
        "Prediksi, Identifikasi, Klasifikasi data baru(tunggal)"
      ],
      "metadata": {
        "id": "3U9Wmw3OtfWn"
      }
    },
    {
      "cell_type": "code",
      "source": [
        "irisBaru = np.array([[6.7, 3.3, 5.7, 2.5]])\n",
        "irisBaru_scaled = minmax_scale(irisBaru)\n",
        "outBaru = bp_predict(irisBaru_scaled, w)\n",
        "print(f'Hasil Prediksi: {decode(outBaru).flatten()}')"
      ],
      "metadata": {
        "colab": {
          "base_uri": "https://localhost:8080/"
        },
        "id": "jeboeSMmd84C",
        "outputId": "aa7c95e8-afa9-417b-f24e-313f423a7785"
      },
      "execution_count": 32,
      "outputs": [
        {
          "output_type": "stream",
          "name": "stdout",
          "text": [
            "Hasil Prediksi: [0]\n"
          ]
        }
      ]
    },
    {
      "cell_type": "code",
      "source": [
        "print(\"\\nNormalisasi Dengan Min-Max\")\n",
        "X_z = minmax_scale(X_raw)\n",
        "X_train_z, X_test_z, y_train_z, y_test_z = train_test_split(X_z, Y, test_size=0.3)\n",
        "w_z, _, _, _ = bp_fit(X_train_z, y_train_z, layer_conf=(4, 4, 3))\n",
        "output_z = bp_predict(X_test_z, w_z)\n",
        "acc_z = accuracy_score(decode(y_test_z), decode(output_z))\n",
        "print(f'Min-Max Accuracy: {acc_z:.2f}')"
      ],
      "metadata": {
        "colab": {
          "base_uri": "https://localhost:8080/"
        },
        "id": "il6Jrgn6-l59",
        "outputId": "511f603a-2a62-42d9-c8e7-9fbba8f12817"
      },
      "execution_count": 37,
      "outputs": [
        {
          "output_type": "stream",
          "name": "stdout",
          "text": [
            "\n",
            "Normalisasi Dengan Min-Max\n",
            "Epoch 50, MSE: 0.0983\n",
            "Epoch 100, MSE: 0.0897\n",
            "Epoch 150, MSE: 0.0482\n",
            "Epoch 200, MSE: 0.0182\n",
            "Epoch 250, MSE: 0.0131\n",
            "Epoch 300, MSE: 0.0110\n",
            "Epoch 335, MSE: 0.0100\n",
            "\n",
            "Min-Max Accuracy: 0.93\n"
          ]
        }
      ]
    },
    {
      "cell_type": "markdown",
      "source": [
        "Dengan Normalisasi Z-Score"
      ],
      "metadata": {
        "id": "5Cwfeza70I10"
      }
    },
    {
      "cell_type": "code",
      "source": [
        "print(\"\\nNormalisasi Dengan Z-Score\")\n",
        "scaler = StandardScaler()\n",
        "X_z = scaler.fit_transform(X_raw)\n",
        "X_train_z, X_test_z, y_train_z, y_test_z = train_test_split(X_z, Y, test_size=0.3)\n",
        "w_z, _, _, _ = bp_fit(X_train_z, y_train_z, layer_conf=(4, 4, 3))\n",
        "output_z = bp_predict(X_test_z, w_z)\n",
        "acc_z = accuracy_score(decode(y_test_z), decode(output_z))\n",
        "print(f'Z-Score Accuracy: {acc_z:.2f}')"
      ],
      "metadata": {
        "colab": {
          "base_uri": "https://localhost:8080/"
        },
        "id": "_Jb2rTeBeCrU",
        "outputId": "b41777a1-2c4b-4082-c244-2333d6c90eba"
      },
      "execution_count": 33,
      "outputs": [
        {
          "output_type": "stream",
          "name": "stdout",
          "text": [
            "\n",
            "Normalisasi Dengan Z-Score\n",
            "Epoch 50, MSE: 0.0300\n",
            "Epoch 100, MSE: 0.0153\n",
            "Epoch 150, MSE: 0.0119\n",
            "Epoch 200, MSE: 0.0104\n",
            "Epoch 218, MSE: 0.0100\n",
            "\n",
            "Z-Score Accuracy: 0.98\n"
          ]
        }
      ]
    },
    {
      "cell_type": "markdown",
      "source": [
        "K-Fold Cross Validation, dengan split sebanyak 5\n"
      ],
      "metadata": {
        "id": "xOr7g1qJ1ay2"
      }
    },
    {
      "cell_type": "code",
      "source": [
        "print(\"\\nK-Fold Cross Validation (k=5)\")\n",
        "kf = KFold(n_splits=5, shuffle=True, random_state=1)\n",
        "acc_scores = []\n",
        "\n",
        "for train_idx, test_idx in kf.split(X):\n",
        "    X_tr, X_te = X[train_idx], X[test_idx]\n",
        "    y_tr, y_te = Y[train_idx], Y[test_idx]\n",
        "    w_kf, _, _, _ = bp_fit(X_tr, y_tr, layer_conf=(4, 4, 3))\n",
        "    out_kf = bp_predict(X_te, w_kf)\n",
        "    acc = accuracy_score(decode(y_te), decode(out_kf))\n",
        "    acc_scores.append(acc)\n",
        "\n",
        "print(f'K-Fold Mean Accuracy: {np.mean(acc_scores):.2f}')"
      ],
      "metadata": {
        "colab": {
          "base_uri": "https://localhost:8080/"
        },
        "id": "PDXdMiHZeFU_",
        "outputId": "dd961977-d8f9-497e-c614-377f10197e5b",
        "collapsed": true
      },
      "execution_count": 34,
      "outputs": [
        {
          "output_type": "stream",
          "name": "stdout",
          "text": [
            "\n",
            "K-Fold Cross Validation (k=5)\n",
            "Epoch 50, MSE: 0.1020\n",
            "Epoch 100, MSE: 0.0912\n",
            "Epoch 150, MSE: 0.0600\n",
            "Epoch 200, MSE: 0.0275\n",
            "Epoch 250, MSE: 0.0178\n",
            "Epoch 300, MSE: 0.0157\n",
            "Epoch 350, MSE: 0.0145\n",
            "Epoch 400, MSE: 0.0137\n",
            "Epoch 450, MSE: 0.0130\n",
            "Epoch 500, MSE: 0.0126\n",
            "Epoch 550, MSE: 0.0122\n",
            "Epoch 600, MSE: 0.0119\n",
            "Epoch 650, MSE: 0.0117\n",
            "Epoch 700, MSE: 0.0115\n",
            "Epoch 750, MSE: 0.0113\n",
            "Epoch 800, MSE: 0.0112\n",
            "Epoch 850, MSE: 0.0110\n",
            "Epoch 900, MSE: 0.0109\n",
            "Epoch 950, MSE: 0.0108\n",
            "Epoch 1000, MSE: 0.0108\n",
            "Epoch 50, MSE: 0.0971\n",
            "Epoch 100, MSE: 0.0910\n",
            "Epoch 150, MSE: 0.0626\n",
            "Epoch 200, MSE: 0.0356\n",
            "Epoch 250, MSE: 0.0207\n",
            "Epoch 300, MSE: 0.0179\n",
            "Epoch 350, MSE: 0.0163\n",
            "Epoch 400, MSE: 0.0151\n",
            "Epoch 450, MSE: 0.0143\n",
            "Epoch 500, MSE: 0.0136\n",
            "Epoch 550, MSE: 0.0131\n",
            "Epoch 600, MSE: 0.0127\n",
            "Epoch 650, MSE: 0.0123\n",
            "Epoch 700, MSE: 0.0120\n",
            "Epoch 750, MSE: 0.0118\n",
            "Epoch 800, MSE: 0.0116\n",
            "Epoch 850, MSE: 0.0114\n",
            "Epoch 900, MSE: 0.0113\n",
            "Epoch 950, MSE: 0.0112\n",
            "Epoch 1000, MSE: 0.0111\n",
            "Epoch 50, MSE: 0.0990\n",
            "Epoch 100, MSE: 0.0868\n",
            "Epoch 150, MSE: 0.0549\n",
            "Epoch 200, MSE: 0.0237\n",
            "Epoch 250, MSE: 0.0165\n",
            "Epoch 300, MSE: 0.0137\n",
            "Epoch 350, MSE: 0.0120\n",
            "Epoch 400, MSE: 0.0108\n",
            "Epoch 445, MSE: 0.0100\n",
            "\n",
            "Epoch 50, MSE: 0.0983\n",
            "Epoch 100, MSE: 0.0849\n",
            "Epoch 150, MSE: 0.0593\n",
            "Epoch 200, MSE: 0.0329\n",
            "Epoch 250, MSE: 0.0191\n",
            "Epoch 300, MSE: 0.0163\n",
            "Epoch 350, MSE: 0.0147\n",
            "Epoch 400, MSE: 0.0136\n",
            "Epoch 450, MSE: 0.0128\n",
            "Epoch 500, MSE: 0.0122\n",
            "Epoch 550, MSE: 0.0117\n",
            "Epoch 600, MSE: 0.0113\n",
            "Epoch 650, MSE: 0.0109\n",
            "Epoch 700, MSE: 0.0107\n",
            "Epoch 750, MSE: 0.0104\n",
            "Epoch 800, MSE: 0.0102\n",
            "Epoch 850, MSE: 0.0101\n",
            "Epoch 872, MSE: 0.0100\n",
            "\n",
            "Epoch 50, MSE: 0.1025\n",
            "Epoch 100, MSE: 0.0908\n",
            "Epoch 150, MSE: 0.0560\n",
            "Epoch 200, MSE: 0.0213\n",
            "Epoch 250, MSE: 0.0137\n",
            "Epoch 300, MSE: 0.0112\n",
            "Epoch 342, MSE: 0.0100\n",
            "\n",
            "K-Fold Mean Accuracy: 0.96\n"
          ]
        }
      ]
    },
    {
      "cell_type": "markdown",
      "source": [
        "Mencoba variasi dari hidden layer"
      ],
      "metadata": {
        "id": "pm8t__zH1m3M"
      }
    },
    {
      "cell_type": "code",
      "source": [
        "print(\"\\n[INFO] Trying multiple hidden layer sizes\")\n",
        "nr_of_layer = 0\n",
        "biggest = 0\n",
        "accuracies = []\n",
        "hidden_sizes = []\n",
        "for h in range(0, 50, 2):\n",
        "    print(f'Hidden layer: {h}')\n",
        "    w_h, _, _, _ = bp_fit(X_train, y_train, layer_conf=(4, h, 3))\n",
        "    out_h = bp_predict(X_test, w_h)\n",
        "    acc_h = accuracy_score(decode(y_test), decode(out_h))\n",
        "    accuracies.append(acc_h)\n",
        "    hidden_sizes.append(h)\n",
        "\n",
        "    if acc_h > biggest:\n",
        "        biggest = acc_h\n",
        "        nr_of_layer = h\n",
        "\n",
        "    print(f'Accuracy: {acc_h:.2f}\\n')\n",
        "\n",
        "print(f'Best accuracy: {biggest:.2f} with {nr_of_layer} hidden layers')"
      ],
      "metadata": {
        "colab": {
          "base_uri": "https://localhost:8080/"
        },
        "id": "ULzd3gWieGCK",
        "outputId": "04569a86-c413-4727-a94d-c30861d53fa3",
        "collapsed": true
      },
      "execution_count": 35,
      "outputs": [
        {
          "output_type": "stream",
          "name": "stdout",
          "text": [
            "\n",
            "[INFO] Trying multiple hidden layer sizes\n",
            "Hidden layer: 0\n",
            "Epoch 50, MSE: 0.2222\n",
            "Epoch 100, MSE: 0.2222\n",
            "Epoch 150, MSE: 0.2222\n",
            "Epoch 200, MSE: 0.2222\n",
            "Epoch 250, MSE: 0.2222\n",
            "Epoch 300, MSE: 0.2222\n",
            "Epoch 350, MSE: 0.2222\n",
            "Epoch 400, MSE: 0.2222\n",
            "Epoch 450, MSE: 0.2222\n",
            "Epoch 500, MSE: 0.2222\n",
            "Epoch 550, MSE: 0.2222\n",
            "Epoch 600, MSE: 0.2222\n",
            "Epoch 650, MSE: 0.2222\n",
            "Epoch 700, MSE: 0.2222\n",
            "Epoch 750, MSE: 0.2222\n",
            "Epoch 800, MSE: 0.2222\n",
            "Epoch 850, MSE: 0.2222\n",
            "Epoch 900, MSE: 0.2222\n",
            "Epoch 950, MSE: 0.2222\n",
            "Epoch 1000, MSE: 0.2222\n",
            "Accuracy: 0.31\n",
            "\n",
            "Hidden layer: 2\n",
            "Epoch 50, MSE: 0.1184\n",
            "Epoch 100, MSE: 0.0890\n",
            "Epoch 150, MSE: 0.0603\n",
            "Epoch 200, MSE: 0.0715\n",
            "Epoch 250, MSE: 0.0215\n",
            "Epoch 300, MSE: 0.0130\n",
            "Epoch 350, MSE: 0.0108\n",
            "Epoch 381, MSE: 0.0100\n",
            "\n",
            "Accuracy: 0.89\n",
            "\n",
            "Hidden layer: 4\n",
            "Epoch 50, MSE: 0.0983\n",
            "Epoch 100, MSE: 0.0897\n",
            "Epoch 150, MSE: 0.0482\n",
            "Epoch 200, MSE: 0.0182\n",
            "Epoch 250, MSE: 0.0131\n",
            "Epoch 300, MSE: 0.0110\n",
            "Epoch 335, MSE: 0.0100\n",
            "\n",
            "Accuracy: 0.93\n",
            "\n",
            "Hidden layer: 6\n",
            "Epoch 50, MSE: 0.1064\n",
            "Epoch 100, MSE: 0.0829\n",
            "Epoch 150, MSE: 0.0506\n",
            "Epoch 200, MSE: 0.0189\n",
            "Epoch 250, MSE: 0.0129\n",
            "Epoch 300, MSE: 0.0106\n",
            "Epoch 323, MSE: 0.0100\n",
            "\n",
            "Accuracy: 0.93\n",
            "\n",
            "Hidden layer: 8\n",
            "Epoch 50, MSE: 0.1060\n",
            "Epoch 100, MSE: 0.0804\n",
            "Epoch 150, MSE: 0.0465\n",
            "Epoch 200, MSE: 0.0196\n",
            "Epoch 250, MSE: 0.0137\n",
            "Epoch 300, MSE: 0.0112\n",
            "Epoch 342, MSE: 0.0100\n",
            "\n",
            "Accuracy: 0.93\n",
            "\n",
            "Hidden layer: 10\n",
            "Epoch 50, MSE: 0.1143\n",
            "Epoch 100, MSE: 0.0704\n",
            "Epoch 150, MSE: 0.0345\n",
            "Epoch 200, MSE: 0.0154\n",
            "Epoch 250, MSE: 0.0118\n",
            "Epoch 300, MSE: 0.0100\n",
            "Epoch 301, MSE: 0.0100\n",
            "\n",
            "Accuracy: 0.91\n",
            "\n",
            "Hidden layer: 12\n",
            "Epoch 50, MSE: 0.1117\n",
            "Epoch 100, MSE: 0.0784\n",
            "Epoch 150, MSE: 0.0427\n",
            "Epoch 200, MSE: 0.0161\n",
            "Epoch 250, MSE: 0.0119\n",
            "Epoch 300, MSE: 0.0100\n",
            "Epoch 301, MSE: 0.0100\n",
            "\n",
            "Accuracy: 0.93\n",
            "\n",
            "Hidden layer: 14\n",
            "Epoch 50, MSE: 0.2583\n",
            "Epoch 100, MSE: 0.0806\n",
            "Epoch 150, MSE: 0.0595\n",
            "Epoch 200, MSE: 0.0304\n",
            "Epoch 250, MSE: 0.0143\n",
            "Epoch 300, MSE: 0.0112\n",
            "Epoch 337, MSE: 0.0100\n",
            "\n",
            "Accuracy: 0.93\n",
            "\n",
            "Hidden layer: 16\n",
            "Epoch 50, MSE: 0.3372\n",
            "Epoch 100, MSE: 0.1306\n",
            "Epoch 150, MSE: 0.0909\n",
            "Epoch 200, MSE: 0.0567\n",
            "Epoch 250, MSE: 0.0216\n",
            "Epoch 300, MSE: 0.0126\n",
            "Epoch 350, MSE: 0.0104\n",
            "Epoch 363, MSE: 0.0100\n",
            "\n",
            "Accuracy: 0.93\n",
            "\n",
            "Hidden layer: 18\n",
            "Epoch 50, MSE: 0.3320\n",
            "Epoch 100, MSE: 0.3306\n",
            "Epoch 150, MSE: 0.1568\n",
            "Epoch 200, MSE: 0.1043\n",
            "Epoch 250, MSE: 0.0672\n",
            "Epoch 300, MSE: 0.0326\n",
            "Epoch 350, MSE: 0.0143\n",
            "Epoch 400, MSE: 0.0113\n",
            "Epoch 440, MSE: 0.0100\n",
            "\n",
            "Accuracy: 0.91\n",
            "\n",
            "Hidden layer: 20\n",
            "Epoch 50, MSE: 0.4375\n",
            "Epoch 100, MSE: 0.3309\n",
            "Epoch 150, MSE: 0.3322\n",
            "Epoch 200, MSE: 0.3238\n",
            "Epoch 250, MSE: 0.1807\n",
            "Epoch 300, MSE: 0.0931\n",
            "Epoch 350, MSE: 0.0650\n",
            "Epoch 400, MSE: 0.0406\n",
            "Epoch 450, MSE: 0.0200\n",
            "Epoch 500, MSE: 0.0131\n",
            "Epoch 550, MSE: 0.0107\n",
            "Epoch 574, MSE: 0.0100\n",
            "\n",
            "Accuracy: 0.93\n",
            "\n",
            "Hidden layer: 22\n",
            "Epoch 50, MSE: 0.5529\n",
            "Epoch 100, MSE: 0.3333\n",
            "Epoch 150, MSE: 0.3333\n",
            "Epoch 200, MSE: 0.3333\n",
            "Epoch 250, MSE: 0.3332\n",
            "Epoch 300, MSE: 0.3327\n",
            "Epoch 350, MSE: 0.3332\n",
            "Epoch 400, MSE: 0.3331\n",
            "Epoch 450, MSE: 0.3330\n",
            "Epoch 500, MSE: 0.3325\n",
            "Epoch 550, MSE: 0.3199\n",
            "Epoch 600, MSE: 0.1159\n",
            "Epoch 650, MSE: 0.0699\n",
            "Epoch 700, MSE: 0.0456\n",
            "Epoch 750, MSE: 0.0201\n",
            "Epoch 800, MSE: 0.0127\n",
            "Epoch 850, MSE: 0.0105\n",
            "Epoch 869, MSE: 0.0100\n",
            "\n",
            "Accuracy: 0.93\n",
            "\n",
            "Hidden layer: 24\n",
            "Epoch 50, MSE: 0.6614\n",
            "Epoch 100, MSE: 0.4493\n",
            "Epoch 150, MSE: 0.3333\n",
            "Epoch 200, MSE: 0.3333\n",
            "Epoch 250, MSE: 0.3333\n",
            "Epoch 300, MSE: 0.3333\n",
            "Epoch 350, MSE: 0.3333\n",
            "Epoch 400, MSE: 0.3333\n",
            "Epoch 450, MSE: 0.3333\n",
            "Epoch 500, MSE: 0.3333\n",
            "Epoch 550, MSE: 0.3333\n",
            "Epoch 600, MSE: 0.3331\n",
            "Epoch 650, MSE: 0.3333\n",
            "Epoch 700, MSE: 0.3333\n",
            "Epoch 750, MSE: 0.3333\n",
            "Epoch 800, MSE: 0.3332\n",
            "Epoch 850, MSE: 0.3330\n",
            "Epoch 900, MSE: 0.3331\n",
            "Epoch 950, MSE: 0.3331\n",
            "Epoch 1000, MSE: 0.3332\n",
            "Accuracy: 0.33\n",
            "\n",
            "Hidden layer: 26\n",
            "Epoch 50, MSE: 0.6666\n",
            "Epoch 100, MSE: 0.6666\n",
            "Epoch 150, MSE: 0.6469\n",
            "Epoch 200, MSE: 0.5491\n",
            "Epoch 250, MSE: 0.5491\n",
            "Epoch 300, MSE: 0.5491\n",
            "Epoch 350, MSE: 0.5490\n",
            "Epoch 400, MSE: 0.4441\n",
            "Epoch 450, MSE: 0.3333\n",
            "Epoch 500, MSE: 0.3333\n",
            "Epoch 550, MSE: 0.3333\n",
            "Epoch 600, MSE: 0.3332\n",
            "Epoch 650, MSE: 0.3331\n",
            "Epoch 700, MSE: 0.3332\n",
            "Epoch 750, MSE: 0.3310\n",
            "Epoch 800, MSE: 0.3001\n",
            "Epoch 850, MSE: 0.1866\n",
            "Epoch 900, MSE: 0.0926\n",
            "Epoch 950, MSE: 0.0786\n",
            "Epoch 1000, MSE: 0.0304\n",
            "Accuracy: 0.87\n",
            "\n",
            "Hidden layer: 28\n",
            "Epoch 50, MSE: 0.6666\n",
            "Epoch 100, MSE: 0.6660\n",
            "Epoch 150, MSE: 0.5555\n",
            "Epoch 200, MSE: 0.5555\n",
            "Epoch 250, MSE: 0.5555\n",
            "Epoch 300, MSE: 0.5555\n",
            "Epoch 350, MSE: 0.5555\n",
            "Epoch 400, MSE: 0.5517\n",
            "Epoch 450, MSE: 0.4381\n",
            "Epoch 500, MSE: 0.4381\n",
            "Epoch 550, MSE: 0.4381\n",
            "Epoch 600, MSE: 0.4381\n",
            "Epoch 650, MSE: 0.4381\n",
            "Epoch 700, MSE: 0.4381\n",
            "Epoch 750, MSE: 0.4381\n",
            "Epoch 800, MSE: 0.4381\n",
            "Epoch 850, MSE: 0.4381\n",
            "Epoch 900, MSE: 0.4381\n",
            "Epoch 950, MSE: 0.4381\n",
            "Epoch 1000, MSE: 0.4380\n",
            "Accuracy: 0.31\n",
            "\n",
            "Hidden layer: 30\n",
            "Epoch 50, MSE: 0.6667\n",
            "Epoch 100, MSE: 0.6667\n",
            "Epoch 150, MSE: 0.6667\n",
            "Epoch 200, MSE: 0.6667\n",
            "Epoch 250, MSE: 0.6667\n",
            "Epoch 300, MSE: 0.6667\n",
            "Epoch 350, MSE: 0.6667\n",
            "Epoch 400, MSE: 0.6667\n",
            "Epoch 450, MSE: 0.6667\n",
            "Epoch 500, MSE: 0.6667\n",
            "Epoch 550, MSE: 0.6667\n",
            "Epoch 600, MSE: 0.6667\n",
            "Epoch 650, MSE: 0.6667\n",
            "Epoch 700, MSE: 0.6666\n",
            "Epoch 750, MSE: 0.6666\n",
            "Epoch 800, MSE: 0.6666\n",
            "Epoch 850, MSE: 0.6666\n",
            "Epoch 900, MSE: 0.6665\n",
            "Epoch 950, MSE: 0.5608\n",
            "Epoch 1000, MSE: 0.5619\n",
            "Accuracy: 0.33\n",
            "\n",
            "Hidden layer: 32\n",
            "Epoch 50, MSE: 0.6667\n",
            "Epoch 100, MSE: 0.6667\n",
            "Epoch 150, MSE: 0.6667\n",
            "Epoch 200, MSE: 0.6667\n",
            "Epoch 250, MSE: 0.6667\n",
            "Epoch 300, MSE: 0.6667\n",
            "Epoch 350, MSE: 0.6667\n",
            "Epoch 400, MSE: 0.6667\n",
            "Epoch 450, MSE: 0.6667\n",
            "Epoch 500, MSE: 0.6667\n",
            "Epoch 550, MSE: 0.6667\n",
            "Epoch 600, MSE: 0.6667\n",
            "Epoch 650, MSE: 0.6667\n",
            "Epoch 700, MSE: 0.6667\n",
            "Epoch 750, MSE: 0.6666\n",
            "Epoch 800, MSE: 0.6666\n",
            "Epoch 850, MSE: 0.6666\n",
            "Epoch 900, MSE: 0.6666\n",
            "Epoch 950, MSE: 0.6665\n",
            "Epoch 1000, MSE: 0.5492\n",
            "Accuracy: 0.31\n",
            "\n",
            "Hidden layer: 34\n",
            "Epoch 50, MSE: 0.6667\n",
            "Epoch 100, MSE: 0.6667\n",
            "Epoch 150, MSE: 0.6667\n",
            "Epoch 200, MSE: 0.6667\n",
            "Epoch 250, MSE: 0.6667\n",
            "Epoch 300, MSE: 0.6667\n",
            "Epoch 350, MSE: 0.6667\n",
            "Epoch 400, MSE: 0.6667\n",
            "Epoch 450, MSE: 0.6667\n",
            "Epoch 500, MSE: 0.6667\n",
            "Epoch 550, MSE: 0.6667\n",
            "Epoch 600, MSE: 0.6667\n",
            "Epoch 650, MSE: 0.6667\n",
            "Epoch 700, MSE: 0.6667\n",
            "Epoch 750, MSE: 0.6667\n",
            "Epoch 800, MSE: 0.6667\n",
            "Epoch 850, MSE: 0.6667\n",
            "Epoch 900, MSE: 0.6667\n",
            "Epoch 950, MSE: 0.6667\n",
            "Epoch 1000, MSE: 0.6667\n",
            "Accuracy: 0.36\n",
            "\n",
            "Hidden layer: 36\n",
            "Epoch 50, MSE: 0.6667\n",
            "Epoch 100, MSE: 0.6667\n",
            "Epoch 150, MSE: 0.6667\n",
            "Epoch 200, MSE: 0.6667\n",
            "Epoch 250, MSE: 0.6667\n",
            "Epoch 300, MSE: 0.6667\n",
            "Epoch 350, MSE: 0.6667\n",
            "Epoch 400, MSE: 0.6667\n",
            "Epoch 450, MSE: 0.6667\n",
            "Epoch 500, MSE: 0.6667\n",
            "Epoch 550, MSE: 0.6667\n",
            "Epoch 600, MSE: 0.6667\n",
            "Epoch 650, MSE: 0.6667\n",
            "Epoch 700, MSE: 0.6667\n",
            "Epoch 750, MSE: 0.6667\n",
            "Epoch 800, MSE: 0.6667\n",
            "Epoch 850, MSE: 0.6667\n",
            "Epoch 900, MSE: 0.6667\n",
            "Epoch 950, MSE: 0.6667\n",
            "Epoch 1000, MSE: 0.6667\n",
            "Accuracy: 0.36\n",
            "\n",
            "Hidden layer: 38\n",
            "Epoch 50, MSE: 0.6667\n",
            "Epoch 100, MSE: 0.6667\n",
            "Epoch 150, MSE: 0.6667\n",
            "Epoch 200, MSE: 0.6667\n",
            "Epoch 250, MSE: 0.6667\n",
            "Epoch 300, MSE: 0.6667\n",
            "Epoch 350, MSE: 0.6667\n",
            "Epoch 400, MSE: 0.6667\n",
            "Epoch 450, MSE: 0.6667\n",
            "Epoch 500, MSE: 0.6667\n",
            "Epoch 550, MSE: 0.6667\n",
            "Epoch 600, MSE: 0.6667\n",
            "Epoch 650, MSE: 0.6667\n",
            "Epoch 700, MSE: 0.6667\n",
            "Epoch 750, MSE: 0.6667\n",
            "Epoch 800, MSE: 0.6667\n",
            "Epoch 850, MSE: 0.6667\n",
            "Epoch 900, MSE: 0.6667\n",
            "Epoch 950, MSE: 0.6667\n",
            "Epoch 1000, MSE: 0.6667\n",
            "Accuracy: 0.31\n",
            "\n",
            "Hidden layer: 40\n",
            "Epoch 50, MSE: 0.6667\n",
            "Epoch 100, MSE: 0.6667\n",
            "Epoch 150, MSE: 0.6667\n",
            "Epoch 200, MSE: 0.6667\n",
            "Epoch 250, MSE: 0.6667\n",
            "Epoch 300, MSE: 0.6667\n",
            "Epoch 350, MSE: 0.6667\n",
            "Epoch 400, MSE: 0.6667\n",
            "Epoch 450, MSE: 0.6667\n",
            "Epoch 500, MSE: 0.6667\n",
            "Epoch 550, MSE: 0.6667\n",
            "Epoch 600, MSE: 0.6667\n",
            "Epoch 650, MSE: 0.6667\n",
            "Epoch 700, MSE: 0.6667\n",
            "Epoch 750, MSE: 0.6667\n",
            "Epoch 800, MSE: 0.6667\n",
            "Epoch 850, MSE: 0.6667\n",
            "Epoch 900, MSE: 0.6667\n",
            "Epoch 950, MSE: 0.6667\n",
            "Epoch 1000, MSE: 0.6667\n",
            "Accuracy: 0.36\n",
            "\n",
            "Hidden layer: 42\n",
            "Epoch 50, MSE: 0.6667\n",
            "Epoch 100, MSE: 0.6667\n",
            "Epoch 150, MSE: 0.6667\n",
            "Epoch 200, MSE: 0.6667\n",
            "Epoch 250, MSE: 0.6667\n",
            "Epoch 300, MSE: 0.6667\n",
            "Epoch 350, MSE: 0.6667\n",
            "Epoch 400, MSE: 0.6667\n",
            "Epoch 450, MSE: 0.6667\n",
            "Epoch 500, MSE: 0.6667\n",
            "Epoch 550, MSE: 0.6667\n",
            "Epoch 600, MSE: 0.6667\n",
            "Epoch 650, MSE: 0.6667\n",
            "Epoch 700, MSE: 0.6667\n",
            "Epoch 750, MSE: 0.6667\n",
            "Epoch 800, MSE: 0.6667\n",
            "Epoch 850, MSE: 0.6667\n",
            "Epoch 900, MSE: 0.6667\n",
            "Epoch 950, MSE: 0.6667\n",
            "Epoch 1000, MSE: 0.6667\n",
            "Accuracy: 0.33\n",
            "\n",
            "Hidden layer: 44\n",
            "Epoch 50, MSE: 0.6667\n",
            "Epoch 100, MSE: 0.6667\n",
            "Epoch 150, MSE: 0.6667\n",
            "Epoch 200, MSE: 0.6667\n",
            "Epoch 250, MSE: 0.6667\n",
            "Epoch 300, MSE: 0.6667\n",
            "Epoch 350, MSE: 0.6667\n",
            "Epoch 400, MSE: 0.6667\n",
            "Epoch 450, MSE: 0.6667\n",
            "Epoch 500, MSE: 0.6667\n",
            "Epoch 550, MSE: 0.6667\n",
            "Epoch 600, MSE: 0.6667\n",
            "Epoch 650, MSE: 0.6667\n",
            "Epoch 700, MSE: 0.6667\n",
            "Epoch 750, MSE: 0.6667\n",
            "Epoch 800, MSE: 0.6667\n",
            "Epoch 850, MSE: 0.6667\n",
            "Epoch 900, MSE: 0.6667\n",
            "Epoch 950, MSE: 0.6667\n",
            "Epoch 1000, MSE: 0.6667\n",
            "Accuracy: 0.31\n",
            "\n",
            "Hidden layer: 46\n",
            "Epoch 50, MSE: 0.6667\n",
            "Epoch 100, MSE: 0.6667\n",
            "Epoch 150, MSE: 0.6667\n",
            "Epoch 200, MSE: 0.6667\n",
            "Epoch 250, MSE: 0.6667\n",
            "Epoch 300, MSE: 0.6667\n",
            "Epoch 350, MSE: 0.6667\n",
            "Epoch 400, MSE: 0.6667\n",
            "Epoch 450, MSE: 0.6667\n",
            "Epoch 500, MSE: 0.6667\n",
            "Epoch 550, MSE: 0.6667\n",
            "Epoch 600, MSE: 0.6667\n",
            "Epoch 650, MSE: 0.6667\n",
            "Epoch 700, MSE: 0.6667\n",
            "Epoch 750, MSE: 0.6667\n",
            "Epoch 800, MSE: 0.6667\n",
            "Epoch 850, MSE: 0.6667\n",
            "Epoch 900, MSE: 0.6667\n",
            "Epoch 950, MSE: 0.6667\n",
            "Epoch 1000, MSE: 0.6667\n",
            "Accuracy: 0.36\n",
            "\n",
            "Hidden layer: 48\n",
            "Epoch 50, MSE: 0.6667\n",
            "Epoch 100, MSE: 0.6667\n",
            "Epoch 150, MSE: 0.6667\n",
            "Epoch 200, MSE: 0.6667\n",
            "Epoch 250, MSE: 0.6667\n",
            "Epoch 300, MSE: 0.6667\n",
            "Epoch 350, MSE: 0.6667\n",
            "Epoch 400, MSE: 0.6667\n",
            "Epoch 450, MSE: 0.6667\n",
            "Epoch 500, MSE: 0.6667\n",
            "Epoch 550, MSE: 0.6667\n",
            "Epoch 600, MSE: 0.6667\n",
            "Epoch 650, MSE: 0.6667\n",
            "Epoch 700, MSE: 0.6667\n",
            "Epoch 750, MSE: 0.6667\n",
            "Epoch 800, MSE: 0.6667\n",
            "Epoch 850, MSE: 0.6667\n",
            "Epoch 900, MSE: 0.6667\n",
            "Epoch 950, MSE: 0.6667\n",
            "Epoch 1000, MSE: 0.6667\n",
            "Accuracy: 0.33\n",
            "\n",
            "Best accuracy: 0.93 with 4 hidden layers\n"
          ]
        }
      ]
    },
    {
      "cell_type": "code",
      "source": [
        "plt.figure(figsize=(8, 5))\n",
        "plt.plot(hidden_sizes, accuracies, marker='o')\n",
        "plt.title('Akurasi Untuk Variasi Hidden Layer')\n",
        "plt.xlabel('Banyak Hidden Layer')\n",
        "plt.ylabel('Accuracy')\n",
        "plt.grid(True)\n",
        "\n",
        "for i, acc in enumerate(accuracies):\n",
        "    plt.text(hidden_sizes[i], acc + 0.01, f'{acc:.2f}', ha='center', fontsize=9)\n",
        "\n",
        "plt.tight_layout()\n",
        "plt.show()"
      ],
      "metadata": {
        "colab": {
          "base_uri": "https://localhost:8080/",
          "height": 507
        },
        "id": "-uL1B4zksaK8",
        "outputId": "658ce99d-ea51-42fb-943c-2ac9c508cbc2"
      },
      "execution_count": 36,
      "outputs": [
        {
          "output_type": "display_data",
          "data": {
            "text/plain": [
              "<Figure size 800x500 with 1 Axes>"
            ],
            "image/png": "[encoded data removed]"
          },
          "metadata": {}
        }
      ]
    }
  ]
}